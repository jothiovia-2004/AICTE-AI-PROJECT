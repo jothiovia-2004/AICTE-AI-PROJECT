
# 🧾 Text Summarization & Keyphrase Extraction Web App (Gradio + Colab)

# --- STEP 1: Install dependencies ---
!pip install transformers keybert gradio sentence-transformers

# --- STEP 2: Import libraries ---
from transformers import pipeline
from keybert import KeyBERT
import gradio as gr

# --- STEP 3: Load Models ---
summarizer = pipeline("summarization", model="facebook/bart-large-cnn")
kw_model = KeyBERT(model='all-MiniLM-L6-v2')

# --- STEP 4: Define the main function ---
def summarize_text(text):
    if len(text.strip()) == 0:
        return "Please enter some text to summarize.", []
    
    # Summarize the text
    summary = summarizer(text, max_length=120, min_length=30, do_sample=False)[0]['summary_text']
    
    # Extract keywords
    keywords = kw_model.extract_keywords(text, keyphrase_ngram_range=(1, 2), stop_words='english', top_n=10)
    keywords_list = [kw[0] for kw in keywords]
    
    return summary, ", ".join(keywords_list)

# --- STEP 5: Create Gradio UI ---
with gr.Blocks(title="Text Summarizer & Keyphrase Extractor") as demo:
    gr.Markdown("## 🧾 Text Summarization & 🔑 Keyphrase Extraction App")
    gr.Markdown("Enter or paste text below, and get an automatic summary with keyphrases.")
    
    with gr.Row():
        text_input = gr.Textbox(label="Enter your text", lines=10, placeholder="Paste or type your document here...")
    
    with gr.Row():
        summary_output = gr.Textbox(label="Summary", lines=6)
        keyphrases_output = gr.Textbox(label="Keyphrases")
    
    submit_btn = gr.Button("Analyze Text")
    submit_btn.click(fn=summarize_text, inputs=text_input, outputs=[summary_output, keyphrases_output])

demo.launch(share=True)
